{
 "cells": [
  {
   "cell_type": "markdown",
   "metadata": {},
   "source": [
    "# Remove path name from photo ids in hdf files\n",
    "(photo_id was inadvertently saved with the full pathname in the 1st notebook)"
   ]
  },
  {
   "cell_type": "code",
   "execution_count": 1,
   "metadata": {
    "collapsed": true
   },
   "outputs": [],
   "source": [
    "data_root = '/home/cathy/repos/kaggle-yelp/features/'\n",
    "\n",
    "import numpy as np\n",
    "import pandas as pd\n",
    "import h5py"
   ]
  },
  {
   "cell_type": "code",
   "execution_count": 2,
   "metadata": {
    "collapsed": true
   },
   "outputs": [],
   "source": [
    "def remove_path_from_photo_id(filename):\n",
    "    \"\"\"\n",
    "    Remove path from photo_id string, e.g. b'/mnt/data/train_photos/204149.jpg' -> b'204149.jpg'\n",
    "    \n",
    "    INPUT:\n",
    "    filename - string, name of hdf file, not including data_root path\n",
    "    \"\"\"\n",
    "    \n",
    "    f = h5py.File(data_root + filename, 'r+')\n",
    "    photo_id = np.copy(f['photo_id'])\n",
    "    \n",
    "    print('photo_id shape: ', photo_id.shape)\n",
    "    print('first few photo ids: ', photo_id[0:3])\n",
    "    \n",
    "    # example string to split: b'/mnt/data/train_photos/204149.jpg'\n",
    "    photo_id_split = np.core.defchararray.rsplit(photo_id, b'/', maxsplit=1)\n",
    "    \n",
    "    if len(photo_id_split[0]) == 2:\n",
    "        # select 2nd element of split string (containing photo_id.jpg).  \n",
    "        # if statement in case data was already processed (so no split)\n",
    "        photo_id_nopath = np.array([x[1] for x in photo_id_split])\n",
    "    \n",
    "        del f['photo_id']\n",
    "        f['photo_id'] = photo_id_nopath\n",
    "    else:\n",
    "        print('photo_id is already processed.')\n",
    "    f.close()"
   ]
  },
  {
   "cell_type": "code",
   "execution_count": 3,
   "metadata": {
    "collapsed": false
   },
   "outputs": [
    {
     "name": "stdout",
     "output_type": "stream",
     "text": [
      "['train_fc6_features.h5', 'test_prob_features.h5', 'train_fc7_features.h5', 'test_fc7_features.h5', 'train_prob_features.h5', 'test_fc6_features.h5']\n",
      "photo_id shape:  (234842,)\n",
      "first few photo ids:  [b'/mnt/data/train_photos/204149.jpg' b'/mnt/data/train_photos/52779.jpg'\n",
      " b'/mnt/data/train_photos/278973.jpg']\n",
      "photo_id shape:  (237152,)\n",
      "first few photo ids:  [b'/mnt/data/test_photos/317818.jpg' b'/mnt/data/test_photos/30679.jpg'\n",
      " b'/mnt/data/test_photos/455084.jpg']\n",
      "photo_id shape:  (234842,)\n",
      "first few photo ids:  [b'/mnt/data/train_photos/204149.jpg' b'/mnt/data/train_photos/52779.jpg'\n",
      " b'/mnt/data/train_photos/278973.jpg']\n",
      "photo_id shape:  (237152,)\n",
      "first few photo ids:  [b'/mnt/data/test_photos/317818.jpg' b'/mnt/data/test_photos/30679.jpg'\n",
      " b'/mnt/data/test_photos/455084.jpg']\n",
      "photo_id shape:  (234842,)\n",
      "first few photo ids:  [b'/mnt/data/train_photos/204149.jpg' b'/mnt/data/train_photos/52779.jpg'\n",
      " b'/mnt/data/train_photos/278973.jpg']\n",
      "photo_id shape:  (237152,)\n",
      "first few photo ids:  [b'/mnt/data/test_photos/317818.jpg' b'/mnt/data/test_photos/30679.jpg'\n",
      " b'/mnt/data/test_photos/455084.jpg']\n"
     ]
    }
   ],
   "source": [
    "# process all hdf files\n",
    "import os\n",
    "\n",
    "filenames = os.listdir(data_root)\n",
    "print(filenames)\n",
    "\n",
    "for fname in filenames:\n",
    "    remove_path_from_photo_id(fname)"
   ]
  }
 ],
 "metadata": {
  "kernelspec": {
   "display_name": "Python 3",
   "language": "python",
   "name": "python3"
  },
  "language_info": {
   "codemirror_mode": {
    "name": "ipython",
    "version": 3
   },
   "file_extension": ".py",
   "mimetype": "text/x-python",
   "name": "python",
   "nbconvert_exporter": "python",
   "pygments_lexer": "ipython3",
   "version": "3.5.1"
  }
 },
 "nbformat": 4,
 "nbformat_minor": 0
}
