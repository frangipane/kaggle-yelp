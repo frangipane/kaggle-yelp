{
 "cells": [
  {
   "cell_type": "markdown",
   "metadata": {},
   "source": [
    "# Use Caffe to extract features from pre-trained CaffeNet.\n"
   ]
  },
  {
   "cell_type": "code",
   "execution_count": 2,
   "metadata": {
    "collapsed": true
   },
   "outputs": [],
   "source": [
    "caffe_root = '/home/ubuntu/caffe/'\n",
    "data_root = '/mnt/data/'"
   ]
  },
  {
   "cell_type": "code",
   "execution_count": 3,
   "metadata": {
    "collapsed": true
   },
   "outputs": [],
   "source": [
    "import numpy as np\n",
    "import sys\n",
    "import caffe\n",
    "import os\n",
    "\n",
    "# make sure caffe is on the python path\n",
    "sys.path.insert(0, caffe_root + 'python')"
   ]
  },
  {
   "cell_type": "markdown",
   "metadata": {},
   "source": [
    "Download pre-trained Alexnet model"
   ]
  },
  {
   "cell_type": "code",
   "execution_count": 4,
   "metadata": {
    "collapsed": false
   },
   "outputs": [],
   "source": [
    "if not os.path.isfile(caffe_root + 'models/bvlc_reference_caffenet/bvlc_reference_caffenet.caffemodel'):\n",
    "    print(\"Downloading pre-trained CaffeNet model...\")\n",
    "    !/home/ubuntu/caffe/scripts/download_model_binary.py /home/ubuntu/caffe/models/bvlc_reference_caffenet"
   ]
  },
  {
   "cell_type": "code",
   "execution_count": 5,
   "metadata": {
    "collapsed": true
   },
   "outputs": [],
   "source": [
    "# set caffe to cpu mode\n",
    "#caffe.set_mode_cpu()\n",
    "\n",
    "# set caffe to gpu mode\n",
    "caffe.set_device(0)\n",
    "caffe.set_mode_gpu()"
   ]
  },
  {
   "cell_type": "markdown",
   "metadata": {},
   "source": [
    "Define function to extract features from specified layer."
   ]
  },
  {
   "cell_type": "code",
   "execution_count": 6,
   "metadata": {
    "collapsed": true
   },
   "outputs": [],
   "source": [
    "def extract_features(images):\n",
    "    \"\"\"\n",
    "    INPUT\n",
    "    images - a list of the names of images (including full directory path)\n",
    "    \n",
    "    RETURNS\n",
    "    net.blobs - all blobs from forward pass through net\n",
    "    \"\"\"\n",
    "    \n",
    "    # Load the net in test phase\n",
    "    net = caffe.Net(caffe_root + 'models/bvlc_reference_caffenet/deploy.prototxt',\n",
    "                caffe_root + 'models/bvlc_reference_caffenet/bvlc_reference_caffenet.caffemodel',\n",
    "                caffe.TEST)\n",
    "    \n",
    "    # input preprocessing: 'data' is the name of the input blob == net.inputs[0]\n",
    "    transformer = caffe.io.Transformer({'data': net.blobs['data'].data.shape})\n",
    "    transformer.set_transpose('data', (2,0,1))\n",
    "    transformer.set_mean('data', np.load(caffe_root + 'python/caffe/imagenet/ilsvrc_2012_mean.npy').mean(1).mean(1)) # mean pixel\n",
    "    transformer.set_raw_scale('data', 255)  # the reference model operates on images in [0,255] range instead of [0,1]\n",
    "    transformer.set_channel_swap('data', (2,1,0))  # the reference model has channels in BGR order instead of RGB]]\n",
    "\n",
    "    # Set batch size to num_images\n",
    "    num_images = len(images)\n",
    "    net.blobs['data'].reshape(num_images,3,227,227)\n",
    "    \n",
    "    # Feed in the image (with some preprocessing) and classify with a forward pass.\n",
    "    net.blobs['data'].data[...] = map(lambda x: transformer.preprocess('data', caffe.io.load_image(x)), images)\n",
    "    out = net.forward()\n",
    "    \n",
    "    return net.blobs"
   ]
  },
  {
   "cell_type": "markdown",
   "metadata": {},
   "source": [
    "Define function that calls on `extract_features` for a set of images"
   ]
  },
  {
   "cell_type": "code",
   "execution_count": 11,
   "metadata": {
    "collapsed": false
   },
   "outputs": [],
   "source": [
    "def extract_features_from_dataset(image_names, outfile_prefix=\"train_\", layers=['fc6','fc7','prob'], batch_size=500):\n",
    "    \"\"\"Extract features in batches from a set of images.  Write to HDF5 file.\n",
    "    INPUT:\n",
    "    layers - list, layer names from which activations/features should be extracted\n",
    "    batch_size - numeric, number of images to process at a time\n",
    "    image_names - list, names of images to be processed (including full directory path)\n",
    "    outfile_prefix - string, prefix for outfile name, e.g. \"train\"\n",
    "    \"\"\"\n",
    "    n_images = len(image_names)\n",
    "    \n",
    "    # extract features in batches\n",
    "    for i in xrange(0, n_images, batch_size):\n",
    "        image_batch = image_names[i: min(i+batch_size, n_images)]\n",
    "        net_blobs = extract_features(images = image_batch)\n",
    "        num_done = i + net_blobs[layers[0]].shape[0]\n",
    "        \n",
    "        # write out features, one file per layer\n",
    "        for l in layers:\n",
    "            fname = data_root + outfile_prefix + l + '_features.h5'\n",
    "            try:\n",
    "                f = h5py.File(fname, 'r+')\n",
    "            except IOError:\n",
    "                initialize_h5files(layer=l, filename=fname, layer_size=net_blobs[l].shape[1])\n",
    "                f = h5py.File(fname, 'r+')\n",
    "            f['photo_id'].resize((num_done,))\n",
    "            f['photo_id'][i: num_done] = np.array(image_batch)\n",
    "            f['feature'].resize((num_done, net_blobs[l].shape[1]))\n",
    "            f['feature'][i: num_done, :] = net_blobs[l].data\n",
    "            f.close()\n",
    "            \n",
    "        if i%20000==0 or num_done==n_images:\n",
    "            print \"Images processed: \", num_done\n",
    "            sys.stdout.flush()"
   ]
  },
  {
   "cell_type": "markdown",
   "metadata": {},
   "source": [
    "# Extract features"
   ]
  },
  {
   "cell_type": "code",
   "execution_count": 8,
   "metadata": {
    "collapsed": true
   },
   "outputs": [],
   "source": [
    "# extract image features and save it to .h5\n",
    "\n",
    "# Initialize files\n",
    "import h5py\n",
    "\n",
    "def initialize_h5files(layer, filename, layer_size):\n",
    "    \"\"\"\n",
    "    INPUT:\n",
    "    layer - string, name of layer in net\n",
    "    fname - string, initialized file name\n",
    "    layer_size - integer, size of layer output (assumed to be a vector)\n",
    "    \"\"\"\n",
    "    f = h5py.File(filename, 'w')\n",
    "    _ = f.create_dataset('photo_id', (0,), maxshape=(None,), dtype='|S54')\n",
    "    _ = f.create_dataset('feature',(0, layer_size), maxshape = (None, layer_size))\n",
    "    f.close()"
   ]
  },
  {
   "cell_type": "markdown",
   "metadata": {},
   "source": [
    "## Extract features from training set"
   ]
  },
  {
   "cell_type": "code",
   "execution_count": 8,
   "metadata": {
    "collapsed": false
   },
   "outputs": [],
   "source": [
    "import pandas as pd \n",
    "train_photos = pd.read_csv(data_root+'train_photo_to_biz_ids.csv')\n",
    "train_folder = data_root+'train_photos/'\n",
    "train_images = [os.path.join(train_folder, str(x)+'.jpg') for x in train_photos['photo_id']]  # get full filename"
   ]
  },
  {
   "cell_type": "code",
   "execution_count": 9,
   "metadata": {
    "collapsed": false
   },
   "outputs": [
    {
     "name": "stdout",
     "output_type": "stream",
     "text": [
      "Number of training images:  234842\n"
     ]
    }
   ],
   "source": [
    "num_train = len(train_images)\n",
    "print \"Number of training images: \", num_train"
   ]
  },
  {
   "cell_type": "code",
   "execution_count": 10,
   "metadata": {
    "collapsed": false
   },
   "outputs": [
    {
     "name": "stdout",
     "output_type": "stream",
     "text": [
      "Images processed:  160000\n",
      "Images processed:  234842\n",
      "computed in 6741.17514801s\n"
     ]
    }
   ],
   "source": [
    "import time\n",
    "tic = time.time()\n",
    "extract_features_from_dataset(image_names=train_images, outfile_prefix='train_', layers=['fc6','fc7','prob'], batch_size=256)\n",
    "toc = time.time()\n",
    "print 'computed in {0}s'.format(toc-tic)"
   ]
  },
  {
   "cell_type": "code",
   "execution_count": 11,
   "metadata": {
    "collapsed": false
   },
   "outputs": [
    {
     "name": "stdout",
     "output_type": "stream",
     "text": [
      "training image features:\n",
      "feature (234842, 4096)\n",
      "photo_id (234842,)\n",
      "\n",
      "A photo: /mnt/data/train_photos/204149.jpg\n",
      "Its feature vector (first 10-dim):  [ 0.          0.          0.          0.          0.          0.10489148\n",
      "  0.          0.          0.          0.        ]  ...\n"
     ]
    }
   ],
   "source": [
    "### Check the file content\n",
    "\n",
    "f = h5py.File(data_root + 'train_fc7_features.h5','r')\n",
    "print 'training image features:'\n",
    "for key in f.keys():\n",
    "    print key, f[key].shape\n",
    "    \n",
    "print \"\\nA photo:\", f['photo_id'][0]\n",
    "print \"Its feature vector (first 10-dim): \", f['feature'][0][0:10], \" ...\"\n",
    "f.close()"
   ]
  },
  {
   "cell_type": "markdown",
   "metadata": {},
   "source": [
    "## Extract features from test set"
   ]
  },
  {
   "cell_type": "code",
   "execution_count": 9,
   "metadata": {
    "collapsed": true
   },
   "outputs": [],
   "source": [
    "import pandas as pd \n",
    "test_photos = pd.read_csv(data_root+'test_photo_to_biz.csv')\n",
    "test_folder = data_root+'test_photos/'\n",
    "test_images = [os.path.join(test_folder, str(x)+'.jpg') for x in test_photos['photo_id'].unique()]  # get full filename"
   ]
  },
  {
   "cell_type": "code",
   "execution_count": 10,
   "metadata": {
    "collapsed": false
   },
   "outputs": [
    {
     "name": "stdout",
     "output_type": "stream",
     "text": [
      "Number of training images:  237152\n"
     ]
    }
   ],
   "source": [
    "num_test = len(test_images)\n",
    "print \"Number of training images: \", num_test"
   ]
  },
  {
   "cell_type": "code",
   "execution_count": 12,
   "metadata": {
    "collapsed": false
   },
   "outputs": [
    {
     "name": "stdout",
     "output_type": "stream",
     "text": [
      "Images processed:  256\n",
      "Images processed:  160256\n",
      "Images processed:  237152\n"
     ]
    }
   ],
   "source": [
    "extract_features_from_dataset(image_names=test_images, outfile_prefix='test_', layers=['fc6','fc7','prob'], batch_size=256)"
   ]
  },
  {
   "cell_type": "code",
   "execution_count": 13,
   "metadata": {
    "collapsed": false
   },
   "outputs": [
    {
     "name": "stdout",
     "output_type": "stream",
     "text": [
      "feature (237152, 4096)\n",
      "photo_id (237152,)\n",
      "\n",
      "A photo: /mnt/data/test_photos/317818.jpg\n",
      "feature vector: (first 10-dim) [  1.11734688   0.           0.           0.          18.62758636   0.\n",
      "   6.45451498   0.           9.16341496   0.        ]  ...\n"
     ]
    }
   ],
   "source": [
    "f = h5py.File(data_root+'test_fc6_features.h5','r')\n",
    "for key in f.keys():\n",
    "    print key, f[key].shape\n",
    "print \"\\nA photo:\", f['photo_id'][0]\n",
    "print \"feature vector: (first 10-dim)\", f['feature'][0][0:10], \" ...\"\n",
    "f.close()"
   ]
  }
 ],
 "metadata": {
  "kernelspec": {
   "display_name": "Python 3",
   "language": "python",
   "name": "python3"
  },
  "language_info": {
   "codemirror_mode": {
    "name": "ipython",
    "version": 3
   },
   "file_extension": ".py",
   "mimetype": "text/x-python",
   "name": "python",
   "nbconvert_exporter": "python",
   "pygments_lexer": "ipython3",
   "version": "3.5.1"
  }
 },
 "nbformat": 4,
 "nbformat_minor": 0
}
